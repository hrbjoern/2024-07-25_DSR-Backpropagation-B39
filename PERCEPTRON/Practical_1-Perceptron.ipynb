{
 "cells": [
  {
   "cell_type": "markdown",
   "metadata": {},
   "source": [
    "# DSR - Practical 1 - Perceptron\n",
    "\n",
    "## Perceptron and the delta rule\n",
    "\n",
    "#### Perceptron training:\n",
    "1. Initialize the weights vector with small random numbers\n",
    "2. Repeat until convergence:\n",
    "    Loop over feature vector ($𝑥_j$) and labels ($l_i$) in training set $D$.\n",
    "    Take $𝑥$ and pass it through the perceptron, calculating the output values: \n",
    "    $$ y_{j}=w(t)\\cdot x_{j}=ƒ(w(t)){x_{j}}$$\n",
    "    Update weights: \n",
    "    $$ w_{i}(t+1)=w_{i}(t)+𝛼(l_{j}-y_{j})x_{j}$$  \n",
    "    for all $0 <= i < n$\n",
    "3. Terminate criterion"
   ]
  },
  {
   "cell_type": "code",
   "execution_count": 134,
   "metadata": {},
   "outputs": [],
   "source": [
    "import numpy as np\n",
    "import matplotlib.pyplot as plt"
   ]
  },
  {
   "cell_type": "markdown",
   "metadata": {},
   "source": [
    "### Update the perceptron class where it says: # ENTER YOUR CODE HERE"
   ]
  },
  {
   "cell_type": "code",
   "execution_count": 135,
   "metadata": {},
   "outputs": [],
   "source": [
    "class Perceptron:\n",
    "    # N is the length of our input feature \n",
    "    # alpha learning rate\n",
    "    def __init__(self, N, alpha=0.1):\n",
    "        # initialize the weight matrix and store the learning rate\n",
    "        self.W = np.random.randn(N ) / np.sqrt(N) # normalizing the weights \n",
    "        self.N = N\n",
    "        self.alpha = alpha\n",
    "        \n",
    "        \n",
    "    def step(self, x):\n",
    "        # apply a step activation function\n",
    "        # ENTER YOUR CODE HERE\n",
    "        # simple step function: \n",
    "        # return int(x > 0)\n",
    "        # from Copilot: Sigmoid function\n",
    "        return int(1. / (1 + np.exp(-x)) > 0.5)\n",
    "    \n",
    "    def fit(self, X, y, epochs=10, addBias=True):\n",
    "        # insert a column of 1's as the last entry in the feature\n",
    "        # matrix -- this little trick allows us to treat the bias\n",
    "        # as a trainable parameter within the weight matrix\n",
    "        if addBias:\n",
    "            print(addBias)\n",
    "            X = np.c_[X, np.ones((X.shape[0]))]\n",
    "            self.W = np.random.randn(self.N+1) / np.sqrt(self.N)\n",
    "        # loop over the desired number of epochs\n",
    "        w = self.W\n",
    "        for epoch in np.arange(0, epochs):\n",
    "            # loop over each individual data point\n",
    "                for (x, target) in zip(X, y):\n",
    "                # take the dot product between the input features\n",
    "                # and the weight matrix, then pass this value\n",
    "                # through the step function to obtain the prediction\n",
    "                    \n",
    "                    # ENTER YOUR CODE HERE FOR \n",
    "                    # dot product \n",
    "                    net = np.dot(x, self.W)\n",
    "                    p = self.step(net)\n",
    "                    # perform weight update if prediction\n",
    "                    # does not match target\n",
    "                    if p != target:\n",
    "                        # calculatew = np.array([]) delta\n",
    "                        delta =  p - target\n",
    "                        if epochs <= 10:\n",
    "                            #print(\"index:\", x.index()) \n",
    "                            print(\"delta: \", delta)\n",
    "                            print(\"w(t) \", self.W)\n",
    "                        # update the weight matrix\n",
    "                        # ENTER YOUR CODE HERE\n",
    "                        self.W = self.W - self.alpha * delta * x\n",
    "                        w = np.append(w, self.W)\n",
    "                        #if epochs<=10:\n",
    "                        #print(\"w: \", w)\n",
    "        #pass\n",
    "        return w\n",
    "\n",
    "    def predict(self, X, addBias=True):\n",
    "        # ensure our input is a matrix\n",
    "        X = np.atleast_2d(X)\n",
    "        # check to see if the bias column should be added\n",
    "        if addBias:\n",
    "            # insert a column of 1's as the last entry in the feature\n",
    "            # matrix (bias)\n",
    "            X = np.c_[X, np.ones((X.shape[0]))]\n",
    "            # take the dot product between the input features and the\n",
    "            # weight matrix, then pass the value through the step\n",
    "            # function\n",
    "        return self.step(np.dot(X, self.W))\n",
    "    "
   ]
  },
  {
   "cell_type": "markdown",
   "metadata": {},
   "source": [
    "## Logical OR dataset"
   ]
  },
  {
   "cell_type": "code",
   "execution_count": 142,
   "metadata": {},
   "outputs": [
    {
     "name": "stdout",
     "output_type": "stream",
     "text": [
      "training perceptron...\n"
     ]
    },
    {
     "data": {
      "text/plain": [
       "array([0.98753654, 0.36143761])"
      ]
     },
     "execution_count": 142,
     "metadata": {},
     "output_type": "execute_result"
    }
   ],
   "source": [
    "# construct the OR dataset\n",
    "X = np.array([[0, 0], [0, 1], [1, 0], [1, 1]])\n",
    "y = np.array([[0], [1], [1], [1]])\n",
    "\n",
    "# define our perceptron and train it\n",
    "print(\"training perceptron...\")\n",
    "p = Perceptron(X.shape[1], alpha=0.1)\n",
    "#p.fit(X, y, epochs=20,addBias=False)\n",
    "p.fit(X, y, epochs=20,addBias=False)"
   ]
  },
  {
   "cell_type": "code",
   "execution_count": 143,
   "metadata": {},
   "outputs": [
    {
     "name": "stdout",
     "output_type": "stream",
     "text": [
      "testing perceptron...\n",
      "data=[0 0], true_label=0, pred=0\n",
      "data=[0 1], true_label=1, pred=1\n",
      "data=[1 0], true_label=1, pred=1\n",
      "data=[1 1], true_label=1, pred=1\n"
     ]
    },
    {
     "name": "stderr",
     "output_type": "stream",
     "text": [
      "/tmp/ipykernel_101354/1562847032.py:17: DeprecationWarning: Conversion of an array with ndim > 0 to a scalar is deprecated, and will error in future. Ensure you extract a single element from your array before performing this operation. (Deprecated NumPy 1.25.)\n",
      "  return int(1. / (1 + np.exp(-x)) > 0.5)\n"
     ]
    }
   ],
   "source": [
    "# now that our perceptron is trained we can evaluate it\n",
    "print(\"testing perceptron...\")\n",
    "\n",
    "# now that our network is trained, loop over the data points\n",
    "for (x, target) in zip(X, y):\n",
    "    # make a prediction on the data point and display the result\n",
    "    # to our console\n",
    "    pred = p.predict(x,addBias=False)\n",
    "    #pred = p.predict(x)\n",
    "    print(\"data={}, true_label={}, pred={}\".format(\n",
    "        x, target[0], pred))"
   ]
  },
  {
   "cell_type": "markdown",
   "metadata": {},
   "source": [
    "## logical AND dataset"
   ]
  },
  {
   "cell_type": "code",
   "execution_count": 147,
   "metadata": {},
   "outputs": [
    {
     "name": "stdout",
     "output_type": "stream",
     "text": [
      "training perceptron...\n",
      "data=[0 0], true_label=0, pred=0\n",
      "data=[0 1], true_label=0, pred=1\n",
      "data=[1 0], true_label=0, pred=1\n",
      "data=[1 1], true_label=1, pred=1\n"
     ]
    },
    {
     "name": "stderr",
     "output_type": "stream",
     "text": [
      "/tmp/ipykernel_101354/1562847032.py:17: DeprecationWarning: Conversion of an array with ndim > 0 to a scalar is deprecated, and will error in future. Ensure you extract a single element from your array before performing this operation. (Deprecated NumPy 1.25.)\n",
      "  return int(1. / (1 + np.exp(-x)) > 0.5)\n"
     ]
    }
   ],
   "source": [
    "# construct the AND dataset\n",
    "X = np.array([[0, 0], [0, 1], [1, 0], [1, 1]])\n",
    "y = np.array([[0], [0], [0], [1]])\n",
    "\n",
    "# create a perceptron instance and fit it to the above dataset\n",
    "### ENTER YOUR CODE HERE\n",
    "\n",
    "# define our perceptron and train it\n",
    "print(\"training perceptron...\")\n",
    "p = Perceptron(X.shape[1], alpha=0.1)\n",
    "p.fit(X, y, epochs=20,addBias=False)\n",
    "\n",
    "\n",
    "# now that our network is trained, loop over the data points\n",
    "for (x, target) in zip(X, y):\n",
    "    # make a prediction on the data point and display the result\n",
    "    # to our console\n",
    "    pred = p.predict(x,addBias=False)\n",
    "    print(\"data={}, true_label={}, pred={}\".format(\n",
    "        x, target[0], pred))\n"
   ]
  },
  {
   "cell_type": "markdown",
   "metadata": {},
   "source": [
    "## Did it work?\n",
    "### try changing the addBias to True and see if this helps.\n",
    "#### what is this bias parameter???"
   ]
  },
  {
   "cell_type": "code",
   "execution_count": 145,
   "metadata": {},
   "outputs": [
    {
     "name": "stdout",
     "output_type": "stream",
     "text": [
      "training perceptron...\n",
      "True\n",
      "data=[0 0], true_label=0, pred=0\n",
      "data=[0 1], true_label=0, pred=0\n",
      "data=[1 0], true_label=0, pred=0\n",
      "data=[1 1], true_label=1, pred=1\n"
     ]
    },
    {
     "name": "stderr",
     "output_type": "stream",
     "text": [
      "/tmp/ipykernel_101354/1562847032.py:17: DeprecationWarning: Conversion of an array with ndim > 0 to a scalar is deprecated, and will error in future. Ensure you extract a single element from your array before performing this operation. (Deprecated NumPy 1.25.)\n",
      "  return int(1. / (1 + np.exp(-x)) > 0.5)\n"
     ]
    }
   ],
   "source": [
    "# ENTER YOUR CODE HERE\n",
    "# construct the AND dataset\n",
    "X = np.array([[0, 0], [0, 1], [1, 0], [1, 1]])\n",
    "y = np.array([[0], [0], [0], [1]])\n",
    "\n",
    "# create a perceptron instance and fit it to the above dataset\n",
    "### ENTER YOUR CODE HERE\n",
    "\n",
    "# define our perceptron and train it\n",
    "print(\"training perceptron...\")\n",
    "p = Perceptron(X.shape[1], alpha=0.1)\n",
    "#p.fit(X, y, epochs=20,addBias=False)\n",
    "p.fit(X, y, epochs=20,addBias=True)\n",
    "\n",
    "# now that our network is trained, loop over the data points\n",
    "for (x, target) in zip(X, y):\n",
    "    # make a prediction on the data point and display the result\n",
    "    # to our console\n",
    "    pred = p.predict(x,addBias=True)\n",
    "    print(\"data={}, true_label={}, pred={}\".format(\n",
    "        x, target[0], pred))\n"
   ]
  },
  {
   "cell_type": "code",
   "execution_count": null,
   "metadata": {},
   "outputs": [],
   "source": []
  },
  {
   "cell_type": "markdown",
   "metadata": {},
   "source": [
    "## Change the perceptron class such that you return the weights after each iteration"
   ]
  },
  {
   "cell_type": "code",
   "execution_count": 150,
   "metadata": {},
   "outputs": [
    {
     "name": "stdout",
     "output_type": "stream",
     "text": [
      "True\n",
      "data=[0 0], true_label=0, pred=0\n",
      "data=[0 1], true_label=0, pred=0\n",
      "data=[1 0], true_label=0, pred=0\n",
      "data=[1 1], true_label=1, pred=1\n"
     ]
    },
    {
     "name": "stderr",
     "output_type": "stream",
     "text": [
      "/tmp/ipykernel_101354/1562847032.py:17: DeprecationWarning: Conversion of an array with ndim > 0 to a scalar is deprecated, and will error in future. Ensure you extract a single element from your array before performing this operation. (Deprecated NumPy 1.25.)\n",
      "  return int(1. / (1 + np.exp(-x)) > 0.5)\n"
     ]
    },
    {
     "data": {
      "text/plain": [
       "[<matplotlib.lines.Line2D at 0x7f21aa086d50>]"
      ]
     },
     "execution_count": 150,
     "metadata": {},
     "output_type": "execute_result"
    },
    {
     "data": {
      "image/png": "[encoded data removed]",
      "text/plain": [
       "<Figure size 640x480 with 1 Axes>"
      ]
     },
     "metadata": {},
     "output_type": "display_data"
    }
   ],
   "source": [
    "## change the Perceptron class such that you save the weights \n",
    "## during training and return them then plot them\n",
    "# ENTER YOUR CODE HERE\n",
    "p = Perceptron(X.shape[1], alpha=0.1)\n",
    "w = p.fit(X, y, epochs=50,addBias=True)\n",
    "\n",
    "\n",
    "for (x, target) in zip(X, y):\n",
    "    # make a prediction on the data point and display the result\n",
    "    # to our console\n",
    "    pred = p.predict(x,addBias=True)\n",
    "    print(\"data={}, true_label={}, pred={}\".format(\n",
    "        x, target[0], pred))\n",
    "    \n",
    "plt.plot(w[0:len(w):3], color='red')\n",
    "plt.plot(w[1:len(w):3], color='blue')\n",
    "plt.plot(w[2:len(w):3], color='green')\n",
    "#plt.plot(w2)\n",
    "# plt.plot(w3)\n",
    "\n",
    "#print(w)"
   ]
  },
  {
   "cell_type": "markdown",
   "metadata": {},
   "source": [
    "### Change learning rate to 0.01 and repeat "
   ]
  },
  {
   "cell_type": "code",
   "execution_count": 151,
   "metadata": {},
   "outputs": [
    {
     "name": "stdout",
     "output_type": "stream",
     "text": [
      "True\n",
      "data=[0 0], true_label=0, pred=0\n",
      "data=[0 1], true_label=0, pred=0\n",
      "data=[1 0], true_label=0, pred=1\n",
      "data=[1 1], true_label=1, pred=1\n"
     ]
    },
    {
     "name": "stderr",
     "output_type": "stream",
     "text": [
      "/tmp/ipykernel_101354/1562847032.py:17: DeprecationWarning: Conversion of an array with ndim > 0 to a scalar is deprecated, and will error in future. Ensure you extract a single element from your array before performing this operation. (Deprecated NumPy 1.25.)\n",
      "  return int(1. / (1 + np.exp(-x)) > 0.5)\n"
     ]
    },
    {
     "data": {
      "text/plain": [
       "[<matplotlib.lines.Line2D at 0x7f21a9fd2090>]"
      ]
     },
     "execution_count": 151,
     "metadata": {},
     "output_type": "execute_result"
    },
    {
     "data": {
      "image/png": "[encoded data removed]",
      "text/plain": [
       "<Figure size 640x480 with 1 Axes>"
      ]
     },
     "metadata": {},
     "output_type": "display_data"
    }
   ],
   "source": [
    "# ENTER YOUR CODE HERE\n",
    "p = Perceptron(X.shape[1], alpha=0.01)\n",
    "w = p.fit(X, y, epochs=50,addBias=True)\n",
    "\n",
    "\n",
    "for (x, target) in zip(X, y):\n",
    "    # make a prediction on the data point and display the result\n",
    "    # to our console\n",
    "    pred = p.predict(x,addBias=True)\n",
    "    print(\"data={}, true_label={}, pred={}\".format(\n",
    "        x, target[0], pred))\n",
    "    \n",
    "plt.plot(w[0:len(w):3], color='red')\n",
    "plt.plot(w[1:len(w):3], color='blue')\n",
    "plt.plot(w[2:len(w):3], color='green')"
   ]
  },
  {
   "cell_type": "markdown",
   "metadata": {},
   "source": [
    "### What does reducing the learning rate do?"
   ]
  },
  {
   "cell_type": "code",
   "execution_count": null,
   "metadata": {},
   "outputs": [],
   "source": []
  },
  {
   "cell_type": "markdown",
   "metadata": {},
   "source": [
    "### Train the perceptron on the XOR data set\n"
   ]
  },
  {
   "cell_type": "code",
   "execution_count": 154,
   "metadata": {},
   "outputs": [
    {
     "name": "stdout",
     "output_type": "stream",
     "text": [
      "True\n",
      "data=[0 0], true_label=0, pred=1\n",
      "data=[0 1], true_label=1, pred=1\n",
      "data=[1 0], true_label=1, pred=0\n",
      "data=[1 1], true_label=0, pred=0\n"
     ]
    },
    {
     "name": "stderr",
     "output_type": "stream",
     "text": [
      "/tmp/ipykernel_101354/1562847032.py:17: DeprecationWarning: Conversion of an array with ndim > 0 to a scalar is deprecated, and will error in future. Ensure you extract a single element from your array before performing this operation. (Deprecated NumPy 1.25.)\n",
      "  return int(1. / (1 + np.exp(-x)) > 0.5)\n"
     ]
    },
    {
     "data": {
      "text/plain": [
       "[<matplotlib.lines.Line2D at 0x7f21a9d17350>]"
      ]
     },
     "execution_count": 154,
     "metadata": {},
     "output_type": "execute_result"
    },
    {
     "data": {
      "image/png": "[encoded data removed]",
      "text/plain": [
       "<Figure size 640x480 with 1 Axes>"
      ]
     },
     "metadata": {},
     "output_type": "display_data"
    }
   ],
   "source": [
    "# construct the XOR dataset\n",
    "X = np.array([[0, 0], [0, 1], [1, 0], [1, 1]])\n",
    "y = np.array([[0], [1], [1], [0]])\n",
    "# ENTER YOUR CODE HERE\n",
    "\n",
    "p = Perceptron(X.shape[1], alpha=0.1)\n",
    "w = p.fit(X, y, epochs=50,addBias=True)\n",
    "\n",
    "\n",
    "for (x, target) in zip(X, y):\n",
    "    # make a prediction on the data point and display the result\n",
    "    # to our console\n",
    "    pred = p.predict(x,addBias=True)\n",
    "    print(\"data={}, true_label={}, pred={}\".format(\n",
    "        x, target[0], pred))\n",
    "    \n",
    "plt.plot(w[0:len(w):3], color='red')\n",
    "plt.plot(w[1:len(w):3], color='blue')\n",
    "plt.plot(w[2:len(w):3], color='green')"
   ]
  },
  {
   "cell_type": "markdown",
   "metadata": {},
   "source": [
    "### Were you able to solve the XOR problem? \n",
    "### How is this problem different than the AND and OR problems?\n"
   ]
  },
  {
   "cell_type": "markdown",
   "metadata": {},
   "source": [
    "### Perceptron for a regression problem"
   ]
  },
  {
   "cell_type": "code",
   "execution_count": null,
   "metadata": {},
   "outputs": [],
   "source": [
    "X = np.arange (0,100,1)\n",
    "noise = np.random.normal(loc=0.0, scale=5, size=100)\n",
    "y = 70 + 1.2*X + noise\n",
    "\n",
    "# normalization of inputs and lables \n",
    "y=y/np.max(X)\n",
    "X=X/np.max(X)"
   ]
  },
  {
   "cell_type": "code",
   "execution_count": null,
   "metadata": {},
   "outputs": [
    {
     "data": {
      "text/plain": [
       "<matplotlib.collections.PathCollection at 0x11cd2b9a0>"
      ]
     },
     "execution_count": 47,
     "metadata": {},
     "output_type": "execute_result"
    },
    {
     "data": {
      "image/png": "[encoded data removed]",
      "text/plain": [
       "<Figure size 432x288 with 1 Axes>"
      ]
     },
     "metadata": {
      "needs_background": "light"
     },
     "output_type": "display_data"
    }
   ],
   "source": [
    "plt.scatter(X, y)"
   ]
  },
  {
   "cell_type": "markdown",
   "metadata": {},
   "source": [
    "#### How should you change the activation function to fit a regression problem?"
   ]
  },
  {
   "cell_type": "code",
   "execution_count": null,
   "metadata": {},
   "outputs": [],
   "source": [
    "# implement the perceptron class here for regression\n",
    "# ENTER YOUR CODE HERE\n"
   ]
  },
  {
   "cell_type": "code",
   "execution_count": null,
   "metadata": {},
   "outputs": [
    {
     "name": "stdout",
     "output_type": "stream",
     "text": [
      "True\n",
      "training perceptron...\n"
     ]
    }
   ],
   "source": [
    "# define our perceptron and train it with and without bi\n",
    "# ENTER YOUR CODE HERE\n"
   ]
  },
  {
   "cell_type": "code",
   "execution_count": null,
   "metadata": {},
   "outputs": [
    {
     "name": "stdout",
     "output_type": "stream",
     "text": [
      "(10,)\n"
     ]
    },
    {
     "ename": "ValueError",
     "evalue": "shapes (1,1) and (2,) not aligned: 1 (dim 1) != 2 (dim 0)",
     "output_type": "error",
     "traceback": [
      "\u001b[0;31m---------------------------------------------------------------------------\u001b[0m",
      "\u001b[0;31mValueError\u001b[0m                                Traceback (most recent call last)",
      "\u001b[0;32m<ipython-input-48-260cbae6e570>\u001b[0m in \u001b[0;36m<module>\u001b[0;34m\u001b[0m\n\u001b[1;32m      6\u001b[0m \u001b[0mpredictions\u001b[0m\u001b[0;34m=\u001b[0m\u001b[0;34m[\u001b[0m\u001b[0;34m]\u001b[0m\u001b[0;34m\u001b[0m\u001b[0;34m\u001b[0m\u001b[0m\n\u001b[1;32m      7\u001b[0m \u001b[0;32mfor\u001b[0m \u001b[0mxx\u001b[0m \u001b[0;32min\u001b[0m \u001b[0mx\u001b[0m\u001b[0;34m:\u001b[0m\u001b[0;34m\u001b[0m\u001b[0;34m\u001b[0m\u001b[0m\n\u001b[0;32m----> 8\u001b[0;31m     \u001b[0mpred\u001b[0m\u001b[0;34m=\u001b[0m\u001b[0mp\u001b[0m\u001b[0;34m.\u001b[0m\u001b[0mpredict\u001b[0m\u001b[0;34m(\u001b[0m\u001b[0mxx\u001b[0m\u001b[0;34m,\u001b[0m\u001b[0maddBias\u001b[0m\u001b[0;34m=\u001b[0m\u001b[0;32mFalse\u001b[0m\u001b[0;34m)\u001b[0m\u001b[0;34m\u001b[0m\u001b[0;34m\u001b[0m\u001b[0m\n\u001b[0m\u001b[1;32m      9\u001b[0m     \u001b[0mpredictions\u001b[0m\u001b[0;34m.\u001b[0m\u001b[0mappend\u001b[0m\u001b[0;34m(\u001b[0m\u001b[0mpred\u001b[0m\u001b[0;34m)\u001b[0m\u001b[0;34m\u001b[0m\u001b[0;34m\u001b[0m\u001b[0m\n\u001b[1;32m     10\u001b[0m \u001b[0mplt\u001b[0m\u001b[0;34m.\u001b[0m\u001b[0mplot\u001b[0m\u001b[0;34m(\u001b[0m\u001b[0mx\u001b[0m\u001b[0;34m,\u001b[0m\u001b[0mpredictions\u001b[0m\u001b[0;34m,\u001b[0m\u001b[0mc\u001b[0m\u001b[0;34m=\u001b[0m\u001b[0;34m\"red\"\u001b[0m\u001b[0;34m)\u001b[0m\u001b[0;34m\u001b[0m\u001b[0;34m\u001b[0m\u001b[0m\n",
      "\u001b[0;32m<ipython-input-37-c0aea3a2af5b>\u001b[0m in \u001b[0;36mpredict\u001b[0;34m(self, X, addBias)\u001b[0m\n\u001b[1;32m     59\u001b[0m             \u001b[0;31m# function\u001b[0m\u001b[0;34m\u001b[0m\u001b[0;34m\u001b[0m\u001b[0;34m\u001b[0m\u001b[0m\n\u001b[1;32m     60\u001b[0m \u001b[0;34m\u001b[0m\u001b[0m\n\u001b[0;32m---> 61\u001b[0;31m         \u001b[0;32mreturn\u001b[0m \u001b[0mself\u001b[0m\u001b[0;34m.\u001b[0m\u001b[0mstep\u001b[0m\u001b[0;34m(\u001b[0m\u001b[0mnp\u001b[0m\u001b[0;34m.\u001b[0m\u001b[0mdot\u001b[0m\u001b[0;34m(\u001b[0m\u001b[0mX\u001b[0m\u001b[0;34m,\u001b[0m \u001b[0mself\u001b[0m\u001b[0;34m.\u001b[0m\u001b[0mW\u001b[0m\u001b[0;34m)\u001b[0m\u001b[0;34m)\u001b[0m\u001b[0;34m\u001b[0m\u001b[0;34m\u001b[0m\u001b[0m\n\u001b[0m",
      "\u001b[0;32m<__array_function__ internals>\u001b[0m in \u001b[0;36mdot\u001b[0;34m(*args, **kwargs)\u001b[0m\n",
      "\u001b[0;31mValueError\u001b[0m: shapes (1,1) and (2,) not aligned: 1 (dim 1) != 2 (dim 0)"
     ]
    },
    {
     "data": {
      "image/png": "[encoded data removed]",
      "text/plain": [
       "<Figure size 432x288 with 1 Axes>"
      ]
     },
     "metadata": {
      "needs_background": "light"
     },
     "output_type": "display_data"
    }
   ],
   "source": [
    "# PLOTTING DATA AS ABOVE AND ADD A PLOT OF THE PREDICTION\n",
    "\n",
    "plt.scatter(X,y)\n",
    "x = np.arange(0,1,0.1)\n",
    "print(x.shape)\n",
    "predictions=[]\n",
    "for xx in x:\n",
    "    pred=p.predict(xx,addBias=False)\n",
    "    predictions.append(pred)\n",
    "plt.plot(x,predictions,c=\"red\")    "
   ]
  },
  {
   "cell_type": "markdown",
   "metadata": {},
   "source": [
    "### What is the difference with/without Bias? "
   ]
  },
  {
   "cell_type": "code",
   "execution_count": null,
   "metadata": {},
   "outputs": [],
   "source": []
  },
  {
   "cell_type": "markdown",
   "metadata": {},
   "source": [
    "### Repeat the training without the normalization of the data, what happened?"
   ]
  },
  {
   "cell_type": "code",
   "execution_count": null,
   "metadata": {},
   "outputs": [],
   "source": [
    "# ENTER YOUR CODE HERE"
   ]
  },
  {
   "cell_type": "markdown",
   "metadata": {},
   "source": [
    "### Were you able to train the model? Why not? Plot the weights and see how they look when the data is normalized and when the data is not normalized."
   ]
  },
  {
   "cell_type": "code",
   "execution_count": null,
   "metadata": {},
   "outputs": [],
   "source": [
    "# PLOT THE WEIGHTS AS A FUNCTION OF TRAINING\n",
    "# ENTER YOUR CODE HERE"
   ]
  },
  {
   "cell_type": "markdown",
   "metadata": {},
   "source": [
    "### Using the normalized data retrain the perceptron. Use the following initial weights:\n",
    "`self.W = np.random.randn(N) * 1000`\n",
    "\n",
    "#### What do you think will happen, why?\n"
   ]
  },
  {
   "cell_type": "code",
   "execution_count": null,
   "metadata": {},
   "outputs": [],
   "source": []
  }
 ],
 "metadata": {
  "kernelspec": {
   "display_name": "Python 3 (ipykernel)",
   "language": "python",
   "name": "python3"
  },
  "language_info": {
   "codemirror_mode": {
    "name": "ipython",
    "version": 3
   },
   "file_extension": ".py",
   "mimetype": "text/x-python",
   "name": "python",
   "nbconvert_exporter": "python",
   "pygments_lexer": "ipython3",
   "version": "3.12.4"
  },
  "latex_envs": {
   "LaTeX_envs_menu_present": true,
   "autoclose": false,
   "autocomplete": true,
   "bibliofile": "biblio.bib",
   "cite_by": "apalike",
   "current_citInitial": 1,
   "eqLabelWithNumbers": true,
   "eqNumInitial": 1,
   "hotkeys": {
    "equation": "Ctrl-E",
    "itemize": "Ctrl-I"
   },
   "labels_anchors": false,
   "latex_user_defs": false,
   "report_style_numbering": false,
   "user_envs_cfg": false
  }
 },
 "nbformat": 4,
 "nbformat_minor": 4
}
